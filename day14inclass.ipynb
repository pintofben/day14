{
  "nbformat": 4,
  "nbformat_minor": 0,
  "metadata": {
    "colab": {
      "provenance": [],
      "authorship_tag": "ABX9TyNIcrgbvOyjDzyShw0hiziL",
      "include_colab_link": true
    },
    "kernelspec": {
      "name": "python3",
      "display_name": "Python 3"
    },
    "language_info": {
      "name": "python"
    }
  },
  "cells": [
    {
      "cell_type": "markdown",
      "metadata": {
        "id": "view-in-github",
        "colab_type": "text"
      },
      "source": [
        "<a href=\"https://colab.research.google.com/github/pintofben/day14/blob/main/day14inclass.ipynb\" target=\"_parent\"><img src=\"https://colab.research.google.com/assets/colab-badge.svg\" alt=\"Open In Colab\"/></a>"
      ]
    },
    {
      "cell_type": "code",
      "execution_count": 1,
      "metadata": {
        "colab": {
          "base_uri": "https://localhost:8080/"
        },
        "id": "umW1YYIKxivK",
        "outputId": "f4378058-417a-43d2-8c24-576b6311db96"
      },
      "outputs": [
        {
          "output_type": "stream",
          "name": "stdout",
          "text": [
            "Cloning into 'day14'...\n",
            "remote: Enumerating objects: 4, done.\u001b[K\n",
            "remote: Counting objects: 100% (4/4), done.\u001b[K\n",
            "remote: Compressing objects: 100% (4/4), done.\u001b[K\n",
            "remote: Total 4 (delta 0), reused 0 (delta 0), pack-reused 0 (from 0)\u001b[K\n",
            "Receiving objects: 100% (4/4), 22.85 KiB | 22.85 MiB/s, done.\n"
          ]
        }
      ],
      "source": [
        "!git clone https://github.com/pintofben/day14.git"
      ]
    },
    {
      "cell_type": "code",
      "source": [
        "%cd day14/"
      ],
      "metadata": {
        "colab": {
          "base_uri": "https://localhost:8080/"
        },
        "id": "ct0mzMC3xtSa",
        "outputId": "91a45295-2a37-4505-874a-4ec081d0189a"
      },
      "execution_count": 2,
      "outputs": [
        {
          "output_type": "stream",
          "name": "stdout",
          "text": [
            "/content/day14\n"
          ]
        }
      ]
    },
    {
      "cell_type": "code",
      "source": [
        "!ls"
      ],
      "metadata": {
        "colab": {
          "base_uri": "https://localhost:8080/"
        },
        "id": "NHT7WZcnx_j7",
        "outputId": "ee0a82cd-fef6-4306-bb7e-8e84d64e2e76"
      },
      "execution_count": 3,
      "outputs": [
        {
          "output_type": "stream",
          "name": "stdout",
          "text": [
            "python-novice-inflammation-code.zip  python-novice-inflammation-data.zip\n"
          ]
        }
      ]
    },
    {
      "cell_type": "code",
      "source": [
        "!unzip python-novice-inflammation-code.zip"
      ],
      "metadata": {
        "colab": {
          "base_uri": "https://localhost:8080/"
        },
        "id": "B5tR4iDVyBTh",
        "outputId": "c8f3e26d-1cfd-4f94-8697-49115983f110"
      },
      "execution_count": 4,
      "outputs": [
        {
          "output_type": "stream",
          "name": "stdout",
          "text": [
            "Archive:  python-novice-inflammation-code.zip\n",
            "  inflating: code/argv_list.py       \n",
            "  inflating: code/arith.py           \n",
            "  inflating: code/check.py           \n",
            "  inflating: code/count_stdin.py     \n",
            "  inflating: code/gen_inflammation.py  \n",
            "  inflating: code/line_count.py      \n",
            "  inflating: code/my_ls.py           \n",
            "  inflating: code/readings_01.py     \n",
            "  inflating: code/readings_02.py     \n",
            "  inflating: code/readings_03.py     \n",
            "  inflating: code/readings_04.py     \n",
            "  inflating: code/readings_05.py     \n",
            "  inflating: code/readings_06.py     \n",
            "  inflating: code/readings_07.py     \n",
            "  inflating: code/readings_08.py     \n",
            "  inflating: code/readings_09.py     \n",
            "  inflating: code/rectangle.py       \n",
            "  inflating: code/sys_version.py     \n"
          ]
        }
      ]
    },
    {
      "cell_type": "code",
      "source": [
        "!ls"
      ],
      "metadata": {
        "colab": {
          "base_uri": "https://localhost:8080/"
        },
        "id": "KSgn5WwyyS0p",
        "outputId": "027f44f5-797b-4b25-d1bc-a7e80db7f150"
      },
      "execution_count": 5,
      "outputs": [
        {
          "output_type": "stream",
          "name": "stdout",
          "text": [
            "code  python-novice-inflammation-code.zip  python-novice-inflammation-data.zip\n"
          ]
        }
      ]
    },
    {
      "cell_type": "code",
      "source": [
        "!unzip python-novice-inflammation-data.zip"
      ],
      "metadata": {
        "colab": {
          "base_uri": "https://localhost:8080/"
        },
        "id": "sz9h2DtkyUFf",
        "outputId": "6a1a9b21-ceb0-4c05-a84a-1e1d0e52a6b2"
      },
      "execution_count": 6,
      "outputs": [
        {
          "output_type": "stream",
          "name": "stdout",
          "text": [
            "Archive:  python-novice-inflammation-data.zip\n",
            "   creating: data/\n",
            "  inflating: data/inflammation-01.csv  \n",
            "  inflating: data/inflammation-02.csv  \n",
            "  inflating: data/inflammation-03.csv  \n",
            "  inflating: data/inflammation-04.csv  \n",
            "  inflating: data/inflammation-05.csv  \n",
            "  inflating: data/inflammation-06.csv  \n",
            "  inflating: data/inflammation-07.csv  \n",
            "  inflating: data/inflammation-08.csv  \n",
            "  inflating: data/inflammation-09.csv  \n",
            "  inflating: data/inflammation-10.csv  \n",
            "  inflating: data/inflammation-11.csv  \n",
            "  inflating: data/inflammation-12.csv  \n",
            " extracting: data/small-01.csv       \n",
            " extracting: data/small-02.csv       \n",
            " extracting: data/small-03.csv       \n"
          ]
        }
      ]
    },
    {
      "cell_type": "code",
      "source": [
        "!ls"
      ],
      "metadata": {
        "colab": {
          "base_uri": "https://localhost:8080/"
        },
        "id": "ijgmt2JGyoUx",
        "outputId": "c22aa3e8-dd0f-4b06-973a-3a97b425471a"
      },
      "execution_count": 7,
      "outputs": [
        {
          "output_type": "stream",
          "name": "stdout",
          "text": [
            "code  data  python-novice-inflammation-code.zip  python-novice-inflammation-data.zip\n"
          ]
        }
      ]
    },
    {
      "cell_type": "code",
      "source": [
        "!pwd"
      ],
      "metadata": {
        "colab": {
          "base_uri": "https://localhost:8080/"
        },
        "id": "3sAyYBouypm6",
        "outputId": "5504c79e-be78-4926-dff2-f7db5c05ad9c"
      },
      "execution_count": 8,
      "outputs": [
        {
          "output_type": "stream",
          "name": "stdout",
          "text": [
            "/content/day14\n"
          ]
        }
      ]
    },
    {
      "cell_type": "code",
      "source": [
        "import numpy as np"
      ],
      "metadata": {
        "id": "kagWf21AzJNg"
      },
      "execution_count": 9,
      "outputs": []
    },
    {
      "cell_type": "code",
      "source": [
        "np.loadtxt(fname='data/inflammation-01.csv',delimiter=',')"
      ],
      "metadata": {
        "colab": {
          "base_uri": "https://localhost:8080/"
        },
        "id": "xpJ1EcSgzYei",
        "outputId": "ae51f5b0-2ead-4cfe-fc38-811c52dc5564"
      },
      "execution_count": 12,
      "outputs": [
        {
          "output_type": "execute_result",
          "data": {
            "text/plain": [
              "array([[0., 0., 1., ..., 3., 0., 0.],\n",
              "       [0., 1., 2., ..., 1., 0., 1.],\n",
              "       [0., 1., 1., ..., 2., 1., 1.],\n",
              "       ...,\n",
              "       [0., 1., 1., ..., 1., 1., 1.],\n",
              "       [0., 0., 0., ..., 0., 2., 0.],\n",
              "       [0., 0., 1., ..., 1., 1., 0.]])"
            ]
          },
          "metadata": {},
          "execution_count": 12
        }
      ]
    },
    {
      "cell_type": "code",
      "source": [
        "data = np.loadtxt(fname='data/inflammation-01.csv',delimiter=',')"
      ],
      "metadata": {
        "id": "Vb-cLgIgzf6L"
      },
      "execution_count": 13,
      "outputs": []
    },
    {
      "cell_type": "code",
      "source": [
        "print(data)"
      ],
      "metadata": {
        "colab": {
          "base_uri": "https://localhost:8080/"
        },
        "id": "bSp__2rqz-Z_",
        "outputId": "81c94581-5535-45bc-c8c8-926eef1cb425"
      },
      "execution_count": 14,
      "outputs": [
        {
          "output_type": "stream",
          "name": "stdout",
          "text": [
            "[[0. 0. 1. ... 3. 0. 0.]\n",
            " [0. 1. 2. ... 1. 0. 1.]\n",
            " [0. 1. 1. ... 2. 1. 1.]\n",
            " ...\n",
            " [0. 1. 1. ... 1. 1. 1.]\n",
            " [0. 0. 0. ... 0. 2. 0.]\n",
            " [0. 0. 1. ... 1. 1. 0.]]\n"
          ]
        }
      ]
    },
    {
      "cell_type": "code",
      "source": [
        "%pwd"
      ],
      "metadata": {
        "colab": {
          "base_uri": "https://localhost:8080/",
          "height": 35
        },
        "id": "cJv1b8C00AVl",
        "outputId": "22bd3e1a-4d2b-4c8a-e5b3-1919b9278412"
      },
      "execution_count": 15,
      "outputs": [
        {
          "output_type": "execute_result",
          "data": {
            "text/plain": [
              "'/content/day14'"
            ],
            "application/vnd.google.colaboratory.intrinsic+json": {
              "type": "string"
            }
          },
          "metadata": {},
          "execution_count": 15
        }
      ]
    },
    {
      "cell_type": "code",
      "source": [
        "import matplotlib.pyplot\n",
        "image = matplotlib.pyplot.imshow(data)\n",
        "matplotlib.pyplot.show()"
      ],
      "metadata": {
        "colab": {
          "base_uri": "https://localhost:8080/",
          "height": 432
        },
        "id": "x8rBUOXb0CnL",
        "outputId": "36ba4ce1-fe6b-4aa7-ca16-524d17335ac8"
      },
      "execution_count": 16,
      "outputs": [
        {
          "output_type": "display_data",
          "data": {
            "text/plain": [
              "<Figure size 640x480 with 1 Axes>"
            ],
            "image/png": "[encoded data removed]"
          },
          "metadata": {}
        }
      ]
    },
    {
      "cell_type": "code",
      "source": [
        "print(type(data))"
      ],
      "metadata": {
        "colab": {
          "base_uri": "https://localhost:8080/"
        },
        "id": "rhatNU570M9r",
        "outputId": "92f0f5c6-f358-4850-a53c-8d2bc25773f7"
      },
      "execution_count": 17,
      "outputs": [
        {
          "output_type": "stream",
          "name": "stdout",
          "text": [
            "<class 'numpy.ndarray'>\n"
          ]
        }
      ]
    },
    {
      "cell_type": "code",
      "source": [
        "print(data.shape)"
      ],
      "metadata": {
        "colab": {
          "base_uri": "https://localhost:8080/"
        },
        "id": "AhCeAsJr2O_s",
        "outputId": "664b6554-2a89-4276-e421-9def1c809e7d"
      },
      "execution_count": 18,
      "outputs": [
        {
          "output_type": "stream",
          "name": "stdout",
          "text": [
            "(60, 40)\n"
          ]
        }
      ]
    },
    {
      "cell_type": "code",
      "source": [
        "print('first value in data:', data[0,0])"
      ],
      "metadata": {
        "colab": {
          "base_uri": "https://localhost:8080/"
        },
        "id": "NmfPwmmD2SRJ",
        "outputId": "66300bfd-f080-4bc3-9b80-b68d2d1d2621"
      },
      "execution_count": 19,
      "outputs": [
        {
          "output_type": "stream",
          "name": "stdout",
          "text": [
            "first value in data: 0.0\n"
          ]
        }
      ]
    },
    {
      "cell_type": "code",
      "source": [
        "print('middle value in data:', data[29,19])"
      ],
      "metadata": {
        "colab": {
          "base_uri": "https://localhost:8080/"
        },
        "id": "ALu6oNvi2h_1",
        "outputId": "97c8f122-cff5-4d23-9b9e-1f37bcdabe7b"
      },
      "execution_count": 20,
      "outputs": [
        {
          "output_type": "stream",
          "name": "stdout",
          "text": [
            "middle value in data: 16.0\n"
          ]
        }
      ]
    },
    {
      "cell_type": "code",
      "source": [
        "print(data[0:4, 0:10])"
      ],
      "metadata": {
        "colab": {
          "base_uri": "https://localhost:8080/"
        },
        "id": "ZGigWtH02n4-",
        "outputId": "7f8bc65c-975e-42fb-d842-74f1c405b84c"
      },
      "execution_count": 21,
      "outputs": [
        {
          "output_type": "stream",
          "name": "stdout",
          "text": [
            "[[0. 0. 1. 3. 1. 2. 4. 7. 8. 3.]\n",
            " [0. 1. 2. 1. 2. 1. 3. 2. 2. 6.]\n",
            " [0. 1. 1. 3. 3. 2. 6. 2. 5. 9.]\n",
            " [0. 0. 2. 0. 4. 2. 2. 1. 6. 7.]]\n"
          ]
        }
      ]
    },
    {
      "cell_type": "code",
      "source": [
        "print(data[5:10, 0:10])"
      ],
      "metadata": {
        "colab": {
          "base_uri": "https://localhost:8080/"
        },
        "id": "iyhtRNAx2tZ6",
        "outputId": "ce78843e-c357-41ef-a75a-97644a71b7b7"
      },
      "execution_count": 22,
      "outputs": [
        {
          "output_type": "stream",
          "name": "stdout",
          "text": [
            "[[0. 0. 1. 2. 2. 4. 2. 1. 6. 4.]\n",
            " [0. 0. 2. 2. 4. 2. 2. 5. 5. 8.]\n",
            " [0. 0. 1. 2. 3. 1. 2. 3. 5. 3.]\n",
            " [0. 0. 0. 3. 1. 5. 6. 5. 5. 8.]\n",
            " [0. 1. 1. 2. 1. 3. 5. 3. 5. 8.]]\n"
          ]
        }
      ]
    },
    {
      "cell_type": "code",
      "source": [
        "small = data[:3, 36:]"
      ],
      "metadata": {
        "id": "WPUzKbue2xsQ"
      },
      "execution_count": 23,
      "outputs": []
    },
    {
      "cell_type": "code",
      "source": [
        "print('small is:')"
      ],
      "metadata": {
        "colab": {
          "base_uri": "https://localhost:8080/"
        },
        "id": "cy4WjQgW22qw",
        "outputId": "8bfff56a-8059-4614-f139-214b79b01bf0"
      },
      "execution_count": 24,
      "outputs": [
        {
          "output_type": "stream",
          "name": "stdout",
          "text": [
            "small is:\n"
          ]
        }
      ]
    },
    {
      "cell_type": "code",
      "source": [
        "print(small)"
      ],
      "metadata": {
        "colab": {
          "base_uri": "https://localhost:8080/"
        },
        "id": "WYMvclub26Fh",
        "outputId": "b1ffd5fc-eb04-44f3-cf33-66137a7ee521"
      },
      "execution_count": 25,
      "outputs": [
        {
          "output_type": "stream",
          "name": "stdout",
          "text": [
            "[[2. 3. 0. 0.]\n",
            " [1. 1. 0. 1.]\n",
            " [2. 2. 1. 1.]]\n"
          ]
        }
      ]
    },
    {
      "cell_type": "code",
      "source": [
        "print(np.mean(data))"
      ],
      "metadata": {
        "colab": {
          "base_uri": "https://localhost:8080/"
        },
        "id": "h28mU2fm3F-I",
        "outputId": "921e1f06-a15e-45a4-e69e-340e1dc2a1b3"
      },
      "execution_count": 26,
      "outputs": [
        {
          "output_type": "stream",
          "name": "stdout",
          "text": [
            "6.14875\n"
          ]
        }
      ]
    },
    {
      "cell_type": "code",
      "source": [
        "maxval, minval, stdval = np.amax(data), np.amin(data), np.std(data)"
      ],
      "metadata": {
        "id": "hlivKqO-3MEC"
      },
      "execution_count": 27,
      "outputs": []
    },
    {
      "cell_type": "code",
      "source": [
        "print('maximum inflammation:', maxval)\n",
        "print('minimum inflammation:', minval)\n",
        "print('standard deviation:', stdval)"
      ],
      "metadata": {
        "colab": {
          "base_uri": "https://localhost:8080/"
        },
        "id": "TPSZ0Log3TNK",
        "outputId": "c4d51dd4-19e0-4528-b884-95071bfbacb4"
      },
      "execution_count": 28,
      "outputs": [
        {
          "output_type": "stream",
          "name": "stdout",
          "text": [
            "maximum inflammation: 20.0\n",
            "minimum inflammation: 0.0\n",
            "standard deviation: 4.613833197118566\n"
          ]
        }
      ]
    },
    {
      "cell_type": "code",
      "source": [
        "patient_0 = data[0, :]"
      ],
      "metadata": {
        "id": "rONkSSZr3VH1"
      },
      "execution_count": 29,
      "outputs": []
    },
    {
      "cell_type": "code",
      "source": [
        "print('maximum inflammation for patient 0:', np.amax(patient_0))"
      ],
      "metadata": {
        "colab": {
          "base_uri": "https://localhost:8080/"
        },
        "id": "gbT6xABS3amw",
        "outputId": "b3da6b01-ba11-4e4c-ba11-35bf71b6827d"
      },
      "execution_count": 31,
      "outputs": [
        {
          "output_type": "stream",
          "name": "stdout",
          "text": [
            "maximum inflammation for patient 0: 18.0\n"
          ]
        }
      ]
    },
    {
      "cell_type": "code",
      "source": [
        "print('maximum inflammation for patient 2:', np.amax(data[2, :]))"
      ],
      "metadata": {
        "colab": {
          "base_uri": "https://localhost:8080/"
        },
        "id": "JhNPzcYW3dcf",
        "outputId": "0ffd7a74-5b84-4819-be72-f95b5e5b1549"
      },
      "execution_count": 33,
      "outputs": [
        {
          "output_type": "stream",
          "name": "stdout",
          "text": [
            "maximum inflammation for patient 2: 19.0\n"
          ]
        }
      ]
    },
    {
      "cell_type": "code",
      "source": [
        "print(np.mean(data, axis=0))"
      ],
      "metadata": {
        "colab": {
          "base_uri": "https://localhost:8080/"
        },
        "id": "JRxoHDIC3pg-",
        "outputId": "62ae3374-5e2a-4e7e-f1e1-cfc7cab3c854"
      },
      "execution_count": 34,
      "outputs": [
        {
          "output_type": "stream",
          "name": "stdout",
          "text": [
            "[ 0.          0.45        1.11666667  1.75        2.43333333  3.15\n",
            "  3.8         3.88333333  5.23333333  5.51666667  5.95        5.9\n",
            "  8.35        7.73333333  8.36666667  9.5         9.58333333 10.63333333\n",
            " 11.56666667 12.35       13.25       11.96666667 11.03333333 10.16666667\n",
            " 10.          8.66666667  9.15        7.25        7.33333333  6.58333333\n",
            "  6.06666667  5.95        5.11666667  3.6         3.3         3.56666667\n",
            "  2.48333333  1.5         1.13333333  0.56666667]\n"
          ]
        }
      ]
    },
    {
      "cell_type": "code",
      "source": [
        "print(np.mean(data, axis=0).shape)\n"
      ],
      "metadata": {
        "colab": {
          "base_uri": "https://localhost:8080/"
        },
        "id": "5IBHtdju3uf6",
        "outputId": "34069669-4e48-43b8-a373-014e1048eb55"
      },
      "execution_count": 35,
      "outputs": [
        {
          "output_type": "stream",
          "name": "stdout",
          "text": [
            "(40,)\n"
          ]
        }
      ]
    },
    {
      "cell_type": "code",
      "source": [
        "print(np.mean(data, axis=1))"
      ],
      "metadata": {
        "colab": {
          "base_uri": "https://localhost:8080/"
        },
        "id": "Az2z4of93zKI",
        "outputId": "41eea9a4-eb83-4742-c9e1-e2c97508f74c"
      },
      "execution_count": 36,
      "outputs": [
        {
          "output_type": "stream",
          "name": "stdout",
          "text": [
            "[5.45  5.425 6.1   5.9   5.55  6.225 5.975 6.65  6.625 6.525 6.775 5.8\n",
            " 6.225 5.75  5.225 6.3   6.55  5.7   5.85  6.55  5.775 5.825 6.175 6.1\n",
            " 5.8   6.425 6.05  6.025 6.175 6.55  6.175 6.35  6.725 6.125 7.075 5.725\n",
            " 5.925 6.15  6.075 5.75  5.975 5.725 6.3   5.9   6.75  5.925 7.225 6.15\n",
            " 5.95  6.275 5.7   6.1   6.825 5.975 6.725 5.7   6.25  6.4   7.05  5.9  ]\n"
          ]
        }
      ]
    },
    {
      "cell_type": "code",
      "source": [
        "import glob"
      ],
      "metadata": {
        "id": "TjQeTqtz36N8"
      },
      "execution_count": 37,
      "outputs": []
    },
    {
      "cell_type": "code",
      "source": [
        "print(glob.glob('inflammation*.csv'))"
      ],
      "metadata": {
        "colab": {
          "base_uri": "https://localhost:8080/"
        },
        "id": "K-O7NdbJ4XE0",
        "outputId": "cd5afcc9-5766-487d-8c7b-b950e3e5141e"
      },
      "execution_count": 38,
      "outputs": [
        {
          "output_type": "stream",
          "name": "stdout",
          "text": [
            "[]\n"
          ]
        }
      ]
    },
    {
      "cell_type": "code",
      "source": [
        "cd .."
      ],
      "metadata": {
        "colab": {
          "base_uri": "https://localhost:8080/"
        },
        "id": "TUBxw_bP4ecK",
        "outputId": "8c2230b8-ca62-4cb1-aee1-0b8c4f60226b"
      },
      "execution_count": 39,
      "outputs": [
        {
          "output_type": "stream",
          "name": "stdout",
          "text": [
            "/content\n"
          ]
        }
      ]
    },
    {
      "cell_type": "code",
      "source": [
        "%cd day14/"
      ],
      "metadata": {
        "colab": {
          "base_uri": "https://localhost:8080/"
        },
        "id": "CpuJyf8f4hzs",
        "outputId": "e6903bda-f6ee-43f8-e51a-7d5948d7cba1"
      },
      "execution_count": 40,
      "outputs": [
        {
          "output_type": "stream",
          "name": "stdout",
          "text": [
            "/content/day14\n"
          ]
        }
      ]
    },
    {
      "cell_type": "code",
      "source": [
        "%cd data/"
      ],
      "metadata": {
        "colab": {
          "base_uri": "https://localhost:8080/"
        },
        "id": "fAgySKTz4lb1",
        "outputId": "4199a394-2329-4580-fa1f-3bc42008d7d1"
      },
      "execution_count": 41,
      "outputs": [
        {
          "output_type": "stream",
          "name": "stdout",
          "text": [
            "/content/day14/data\n"
          ]
        }
      ]
    },
    {
      "cell_type": "code",
      "source": [
        "import glob"
      ],
      "metadata": {
        "id": "34_2-5xe4nCw"
      },
      "execution_count": 42,
      "outputs": []
    },
    {
      "cell_type": "code",
      "source": [
        "print(glob.glob('inflammation*.csv'))"
      ],
      "metadata": {
        "colab": {
          "base_uri": "https://localhost:8080/"
        },
        "id": "6E2n43B44py-",
        "outputId": "8cb8ba03-bd4f-4b6d-c8bc-21aaa54eb527"
      },
      "execution_count": 43,
      "outputs": [
        {
          "output_type": "stream",
          "name": "stdout",
          "text": [
            "['inflammation-11.csv', 'inflammation-07.csv', 'inflammation-08.csv', 'inflammation-01.csv', 'inflammation-09.csv', 'inflammation-12.csv', 'inflammation-10.csv', 'inflammation-05.csv', 'inflammation-02.csv', 'inflammation-04.csv', 'inflammation-03.csv', 'inflammation-06.csv']\n"
          ]
        }
      ]
    },
    {
      "cell_type": "code",
      "source": [
        "import glob\n",
        "import numpy\n",
        "import matplotlib.pyplot"
      ],
      "metadata": {
        "id": "Z8XPnH6-4q8H"
      },
      "execution_count": 44,
      "outputs": []
    },
    {
      "cell_type": "code",
      "source": [
        "filenames = sorted(glob.glob('inflammation*.csv'))\n",
        "filenames = filenames[0:3]\n",
        "for filename in filenames:\n",
        "    print(filename)\n",
        "\n",
        "    data = numpy.loadtxt(fname=filename, delimiter=',')\n",
        "\n",
        "    fig = matplotlib.pyplot.figure(figsize=(10.0, 3.0))\n",
        "\n",
        "    axes1 = fig.add_subplot(1, 3, 1)\n",
        "    axes2 = fig.add_subplot(1, 3, 2)\n",
        "    axes3 = fig.add_subplot(1, 3, 3)\n",
        "\n",
        "    axes1.set_ylabel('average')\n",
        "    axes1.plot(numpy.mean(data, axis=0))\n",
        "\n",
        "    axes2.set_ylabel('max')\n",
        "    axes2.plot(numpy.amax(data, axis=0))\n",
        "\n",
        "    axes3.set_ylabel('min')\n",
        "    axes3.plot(numpy.amin(data, axis=0))\n",
        "\n",
        "    fig.tight_layout()\n",
        "    matplotlib.pyplot.show()"
      ],
      "metadata": {
        "colab": {
          "base_uri": "https://localhost:8080/",
          "height": 623
        },
        "id": "FKEeV4_H4t4V",
        "outputId": "7b6ad03b-ccef-4f6d-822e-90ec6e9f272a"
      },
      "execution_count": 45,
      "outputs": [
        {
          "output_type": "stream",
          "name": "stdout",
          "text": [
            "inflammation-01.csv\n"
          ]
        },
        {
          "output_type": "display_data",
          "data": {
            "text/plain": [
              "<Figure size 1000x300 with 3 Axes>"
            ],
            "image/png": "[encoded data removed]"
          },
          "metadata": {}
        },
        {
          "output_type": "stream",
          "name": "stdout",
          "text": [
            "inflammation-02.csv\n"
          ]
        },
        {
          "output_type": "display_data",
          "data": {
            "text/plain": [
              "<Figure size 1000x300 with 3 Axes>"
            ],
            "image/png": "[encoded data removed]"
          },
          "metadata": {}
        },
        {
          "output_type": "stream",
          "name": "stdout",
          "text": [
            "inflammation-03.csv\n"
          ]
        },
        {
          "output_type": "display_data",
          "data": {
            "text/plain": [
              "<Figure size 1000x300 with 3 Axes>"
            ],
            "image/png": "[encoded data removed]"
          },
          "metadata": {}
        }
      ]
    },
    {
      "cell_type": "code",
      "source": [
        "num = 37\n",
        "if num > 100:\n",
        "    print('greater')\n",
        "else:\n",
        "    print('not greater')\n",
        "print('done')"
      ],
      "metadata": {
        "colab": {
          "base_uri": "https://localhost:8080/"
        },
        "id": "i8TmdiJf4w0x",
        "outputId": "6bd4ff2c-6baf-44e7-9d71-9999e5f3fa63"
      },
      "execution_count": 46,
      "outputs": [
        {
          "output_type": "stream",
          "name": "stdout",
          "text": [
            "not greater\n",
            "done\n"
          ]
        }
      ]
    },
    {
      "cell_type": "code",
      "source": [
        "num = 53\n",
        "print('before conditional...')\n",
        "if num > 100:\n",
        "    print(num, 'is greater than 100')\n",
        "print('...after conditional')"
      ],
      "metadata": {
        "colab": {
          "base_uri": "https://localhost:8080/"
        },
        "id": "xW7XmYIT4-L-",
        "outputId": "06dff506-d0e2-4dba-c285-5866b0879bbf"
      },
      "execution_count": 47,
      "outputs": [
        {
          "output_type": "stream",
          "name": "stdout",
          "text": [
            "before conditional...\n",
            "...after conditional\n"
          ]
        }
      ]
    },
    {
      "cell_type": "code",
      "source": [
        "num = -3\n",
        "\n",
        "if num > 0:\n",
        "    print(num, 'is positive')\n",
        "elif num == 0:\n",
        "    print(num, 'is zero')\n",
        "else:\n",
        "    print(num, 'is negative')"
      ],
      "metadata": {
        "colab": {
          "base_uri": "https://localhost:8080/"
        },
        "id": "ZEGkaql25DT5",
        "outputId": "7e0ea9aa-dd43-4994-d361-453074ad830c"
      },
      "execution_count": 48,
      "outputs": [
        {
          "output_type": "stream",
          "name": "stdout",
          "text": [
            "-3 is negative\n"
          ]
        }
      ]
    },
    {
      "cell_type": "code",
      "source": [
        "if (1 > 0) and (-1 >= 0):\n",
        "    print('both parts are true')\n",
        "else:\n",
        "    print('at least one part is false')"
      ],
      "metadata": {
        "colab": {
          "base_uri": "https://localhost:8080/"
        },
        "id": "Xj86RHH65Ga3",
        "outputId": "212e6141-6208-4f05-cbba-95b162bc1dc4"
      },
      "execution_count": 49,
      "outputs": [
        {
          "output_type": "stream",
          "name": "stdout",
          "text": [
            "at least one part is false\n"
          ]
        }
      ]
    },
    {
      "cell_type": "code",
      "source": [
        "if (1 < 0) or (1 >= 0):\n",
        "    print('at least one test is true')"
      ],
      "metadata": {
        "colab": {
          "base_uri": "https://localhost:8080/"
        },
        "id": "nsVu-2EZ5QVi",
        "outputId": "d84f36a4-ec2e-4d22-978c-3f13e20352cb"
      },
      "execution_count": 50,
      "outputs": [
        {
          "output_type": "stream",
          "name": "stdout",
          "text": [
            "at least one test is true\n"
          ]
        }
      ]
    },
    {
      "cell_type": "code",
      "source": [
        "import numpy\n",
        "data = numpy.loadtxt(fname='inflammation-01.csv', delimiter=',')"
      ],
      "metadata": {
        "id": "UqF7RQ8n5X5x"
      },
      "execution_count": 51,
      "outputs": []
    },
    {
      "cell_type": "code",
      "source": [
        "max_inflammation_0 = numpy.amax(data, axis=0)[0]\n",
        "max_inflammation_20 = numpy.amax(data, axis=0)[20]\n",
        "\n",
        "if max_inflammation_0 == 0 and max_inflammation_20 == 20:\n",
        "    print('Suspicious looking maxima!')\n",
        "elif numpy.sum(numpy.amin(data, axis=0)) == 0:\n",
        "    print('Minima add up to zero!')\n",
        "else:\n",
        "    print('Seems OK!')"
      ],
      "metadata": {
        "colab": {
          "base_uri": "https://localhost:8080/"
        },
        "id": "-wJMzBbb5br8",
        "outputId": "97622cc7-87f7-4447-dd20-957a9b6e55ed"
      },
      "execution_count": 54,
      "outputs": [
        {
          "output_type": "stream",
          "name": "stdout",
          "text": [
            "Suspicious looking maxima!\n"
          ]
        }
      ]
    },
    {
      "cell_type": "code",
      "source": [
        "data = numpy.loadtxt(fname='inflammation-01.csv', delimiter=',')\n",
        "\n",
        "max_inflammation_0 = numpy.amax(data, axis=0)[0]\n",
        "max_inflammation_20 = numpy.amax(data, axis=0)[20]\n",
        "\n",
        "if max_inflammation_0 == 0 and max_inflammation_20 == 20:\n",
        "    print('Suspicious looking maxima!')\n",
        "elif numpy.sum(numpy.amin(data, axis=0)) == 0:\n",
        "    print('Minima add up to zero!')\n",
        "else:\n",
        "    print('Seems OK!')"
      ],
      "metadata": {
        "colab": {
          "base_uri": "https://localhost:8080/"
        },
        "id": "USk5qfvd5iCt",
        "outputId": "1128615e-ebc2-45ee-f9ae-0d9354cd18b8"
      },
      "execution_count": 55,
      "outputs": [
        {
          "output_type": "stream",
          "name": "stdout",
          "text": [
            "Suspicious looking maxima!\n"
          ]
        }
      ]
    },
    {
      "cell_type": "code",
      "source": [
        "data = numpy.loadtxt(fname='inflammation-03.csv', delimiter=',')\n",
        "\n",
        "max_inflammation_0 = numpy.amax(data, axis=0)[0]\n",
        "max_inflammation_20 = numpy.amax(data, axis=0)[20]\n",
        "\n",
        "if max_inflammation_0 == 0 and max_inflammation_20 == 20:\n",
        "    print('Suspicious looking maxima!')\n",
        "elif numpy.sum(numpy.amin(data, axis=0)) == 0:\n",
        "    print('Minima add up to zero!')\n",
        "else:\n",
        "    print('Seems OK!')"
      ],
      "metadata": {
        "colab": {
          "base_uri": "https://localhost:8080/"
        },
        "id": "P0kJGDq65kfs",
        "outputId": "dd788754-5e2f-44ca-945b-0afa835bf16f"
      },
      "execution_count": 56,
      "outputs": [
        {
          "output_type": "stream",
          "name": "stdout",
          "text": [
            "Minima add up to zero!\n"
          ]
        }
      ]
    },
    {
      "cell_type": "code",
      "source": [
        "fahrenheit_val = 99\n",
        "celsius_val = ((fahrenheit_val - 32) * (5/9))"
      ],
      "metadata": {
        "id": "Lli-Z1dh5x1v"
      },
      "execution_count": 57,
      "outputs": []
    },
    {
      "cell_type": "code",
      "source": [
        "fahrenheit_val = 99\n",
        "celsius_val = ((fahrenheit_val - 32) * (5/9))\n",
        "\n",
        "fahrenheit_val2 = 43\n",
        "celsius_val2 = ((fahrenheit_val2 - 32) * (5/9))"
      ],
      "metadata": {
        "id": "ToNH3B6T6wmf"
      },
      "execution_count": 58,
      "outputs": []
    },
    {
      "cell_type": "code",
      "source": [
        "def explicit_fahr_to_celsius(temp):\n",
        "    # Assign the converted value to a variable\n",
        "    converted = ((temp - 32) * (5/9))\n",
        "    # Return the value of the new variable\n",
        "    return converted\n",
        "\n",
        "def fahr_to_celsius(temp):\n",
        "    # Return converted value more efficiently using the return\n",
        "    # function without creating a new variable. This code does\n",
        "    # the same thing as the previous function but it is more explicit\n",
        "    # in explaining how the return command works.\n",
        "    return ((temp - 32) * (5/9))"
      ],
      "metadata": {
        "id": "EYoTBOAy7Ha6"
      },
      "execution_count": 59,
      "outputs": []
    },
    {
      "cell_type": "code",
      "source": [
        "fahr_to_celsius(32)"
      ],
      "metadata": {
        "colab": {
          "base_uri": "https://localhost:8080/"
        },
        "id": "kna-Ati57JWj",
        "outputId": "67211e70-f400-4ccb-851f-d58f5b505e2b"
      },
      "execution_count": 60,
      "outputs": [
        {
          "output_type": "execute_result",
          "data": {
            "text/plain": [
              "0.0"
            ]
          },
          "metadata": {},
          "execution_count": 60
        }
      ]
    },
    {
      "cell_type": "code",
      "source": [
        "print('freezing point of water:', fahr_to_celsius(32), 'C')\n",
        "print('boiling point of water:', fahr_to_celsius(212), 'C')"
      ],
      "metadata": {
        "colab": {
          "base_uri": "https://localhost:8080/"
        },
        "id": "QyGhXr7W7OcE",
        "outputId": "00dab7b0-0a79-474d-8955-1f821c0efbaa"
      },
      "execution_count": 61,
      "outputs": [
        {
          "output_type": "stream",
          "name": "stdout",
          "text": [
            "freezing point of water: 0.0 C\n",
            "boiling point of water: 100.0 C\n"
          ]
        }
      ]
    },
    {
      "cell_type": "code",
      "source": [
        "def celsius_to_kelvin(temp_c):\n",
        "    return temp_c + 273.15\n",
        "\n",
        "print('freezing point of water in Kelvin:', celsius_to_kelvin(0.))"
      ],
      "metadata": {
        "colab": {
          "base_uri": "https://localhost:8080/"
        },
        "id": "CdB3xN-K7QWX",
        "outputId": "d0dcd20a-8787-43ca-d662-56c6005d2ab1"
      },
      "execution_count": 62,
      "outputs": [
        {
          "output_type": "stream",
          "name": "stdout",
          "text": [
            "freezing point of water in Kelvin: 273.15\n"
          ]
        }
      ]
    },
    {
      "cell_type": "code",
      "source": [
        "def visualize(filename):\n",
        "\n",
        "    data = numpy.loadtxt(fname=filename, delimiter=',')\n",
        "\n",
        "    fig = matplotlib.pyplot.figure(figsize=(10.0, 3.0))\n",
        "\n",
        "    axes1 = fig.add_subplot(1, 3, 1)\n",
        "    axes2 = fig.add_subplot(1, 3, 2)\n",
        "    axes3 = fig.add_subplot(1, 3, 3)\n",
        "\n",
        "    axes1.set_ylabel('average')\n",
        "    axes1.plot(numpy.mean(data, axis=0))\n",
        "\n",
        "    axes2.set_ylabel('max')\n",
        "    axes2.plot(numpy.amax(data, axis=0))\n",
        "\n",
        "    axes3.set_ylabel('min')\n",
        "    axes3.plot(numpy.amin(data, axis=0))\n",
        "\n",
        "    fig.tight_layout()\n",
        "    matplotlib.pyplot.show()"
      ],
      "metadata": {
        "id": "3KcJSdRu7bHa"
      },
      "execution_count": 63,
      "outputs": []
    },
    {
      "cell_type": "code",
      "source": [
        "def detect_problems(filename):\n",
        "\n",
        "    data = numpy.loadtxt(fname=filename, delimiter=',')\n",
        "\n",
        "    if numpy.amax(data, axis=0)[0] == 0 and numpy.amax(data, axis=0)[20] == 20:\n",
        "        print('Suspicious looking maxima!')\n",
        "    elif numpy.sum(numpy.amin(data, axis=0)) == 0:\n",
        "        print('Minima add up to zero!')\n",
        "    else:\n",
        "        print('Seems OK!')"
      ],
      "metadata": {
        "id": "8iJjK1Ot7yo8"
      },
      "execution_count": 64,
      "outputs": []
    },
    {
      "cell_type": "code",
      "source": [
        "filenames = sorted(glob.glob('inflammation*.csv'))\n",
        "\n",
        "for filename in filenames[:3]:\n",
        "    print(filename)\n",
        "    visualize(filename)\n",
        "    detect_problems(filename)"
      ],
      "metadata": {
        "colab": {
          "base_uri": "https://localhost:8080/",
          "height": 676
        },
        "id": "oY4t4iAh72O1",
        "outputId": "c93fa556-de92-4496-c687-f683622d7637"
      },
      "execution_count": 65,
      "outputs": [
        {
          "output_type": "stream",
          "name": "stdout",
          "text": [
            "inflammation-01.csv\n"
          ]
        },
        {
          "output_type": "display_data",
          "data": {
            "text/plain": [
              "<Figure size 1000x300 with 3 Axes>"
            ],
            "image/png": "[encoded data removed]"
          },
          "metadata": {}
        },
        {
          "output_type": "stream",
          "name": "stdout",
          "text": [
            "Suspicious looking maxima!\n",
            "inflammation-02.csv\n"
          ]
        },
        {
          "output_type": "display_data",
          "data": {
            "text/plain": [
              "<Figure size 1000x300 with 3 Axes>"
            ],
            "image/png": "[encoded data removed]"
          },
          "metadata": {}
        },
        {
          "output_type": "stream",
          "name": "stdout",
          "text": [
            "Suspicious looking maxima!\n",
            "inflammation-03.csv\n"
          ]
        },
        {
          "output_type": "display_data",
          "data": {
            "text/plain": [
              "<Figure size 1000x300 with 3 Axes>"
            ],
            "image/png": "[encoded data removed]"
          },
          "metadata": {}
        },
        {
          "output_type": "stream",
          "name": "stdout",
          "text": [
            "Minima add up to zero!\n"
          ]
        }
      ]
    },
    {
      "cell_type": "code",
      "source": [
        "def offset_mean(data, target_mean_value):\n",
        "    return (data - numpy.mean(data)) + target_mean_value"
      ],
      "metadata": {
        "id": "50c4cGO_8HqW"
      },
      "execution_count": 66,
      "outputs": []
    },
    {
      "cell_type": "code",
      "source": [
        "z = numpy.zeros((2, 2))\n",
        "print(offset_mean(z, 3))"
      ],
      "metadata": {
        "colab": {
          "base_uri": "https://localhost:8080/"
        },
        "id": "2a52FNpC8MC-",
        "outputId": "1c600b07-5455-4052-a4b0-8f43d3517f41"
      },
      "execution_count": 67,
      "outputs": [
        {
          "output_type": "stream",
          "name": "stdout",
          "text": [
            "[[3. 3.]\n",
            " [3. 3.]]\n"
          ]
        }
      ]
    },
    {
      "cell_type": "code",
      "source": [
        "data = numpy.loadtxt(fname='inflammation-01.csv', delimiter=',')\n",
        "print(offset_mean(data, 0))"
      ],
      "metadata": {
        "colab": {
          "base_uri": "https://localhost:8080/"
        },
        "id": "MWl7NSdD8NlJ",
        "outputId": "a31addda-bc2a-43a8-eed4-9365d49a98ef"
      },
      "execution_count": 68,
      "outputs": [
        {
          "output_type": "stream",
          "name": "stdout",
          "text": [
            "[[-6.14875 -6.14875 -5.14875 ... -3.14875 -6.14875 -6.14875]\n",
            " [-6.14875 -5.14875 -4.14875 ... -5.14875 -6.14875 -5.14875]\n",
            " [-6.14875 -5.14875 -5.14875 ... -4.14875 -5.14875 -5.14875]\n",
            " ...\n",
            " [-6.14875 -5.14875 -5.14875 ... -5.14875 -5.14875 -5.14875]\n",
            " [-6.14875 -6.14875 -6.14875 ... -6.14875 -4.14875 -6.14875]\n",
            " [-6.14875 -6.14875 -5.14875 ... -5.14875 -5.14875 -6.14875]]\n"
          ]
        }
      ]
    },
    {
      "cell_type": "code",
      "source": [
        "print('original min, mean, and max are:', numpy.amin(data), numpy.mean(data), numpy.amax(data))\n",
        "offset_data = offset_mean(data, 0)\n",
        "print('min, mean, and max of offset data are:',\n",
        "      numpy.amin(offset_data),\n",
        "      numpy.mean(offset_data),\n",
        "      numpy.amax(offset_data))"
      ],
      "metadata": {
        "colab": {
          "base_uri": "https://localhost:8080/"
        },
        "id": "O6pwe9t28PEO",
        "outputId": "b7d79dab-b421-44f9-c087-25b2e6d01001"
      },
      "execution_count": 69,
      "outputs": [
        {
          "output_type": "stream",
          "name": "stdout",
          "text": [
            "original min, mean, and max are: 0.0 6.14875 20.0\n",
            "min, mean, and max of offset data are: -6.14875 2.842170943040401e-16 13.85125\n"
          ]
        }
      ]
    },
    {
      "cell_type": "code",
      "source": [
        "print('std dev before and after:', numpy.std(data), numpy.std(offset_data))"
      ],
      "metadata": {
        "colab": {
          "base_uri": "https://localhost:8080/"
        },
        "id": "iCzIZJWF8Q3L",
        "outputId": "43b013f0-0112-454b-9990-72ba84d11f47"
      },
      "execution_count": 70,
      "outputs": [
        {
          "output_type": "stream",
          "name": "stdout",
          "text": [
            "std dev before and after: 4.613833197118566 4.613833197118566\n"
          ]
        }
      ]
    },
    {
      "cell_type": "code",
      "source": [
        "print('difference in standard deviations before and after:', numpy.std(data) - numpy.std(offset_data))"
      ],
      "metadata": {
        "colab": {
          "base_uri": "https://localhost:8080/"
        },
        "id": "xcF8php88TGv",
        "outputId": "690eb811-8f9a-45ca-fbe9-287c0e3674bd"
      },
      "execution_count": 71,
      "outputs": [
        {
          "output_type": "stream",
          "name": "stdout",
          "text": [
            "difference in standard deviations before and after: 0.0\n"
          ]
        }
      ]
    },
    {
      "cell_type": "code",
      "source": [
        "def offset_mean(data, target_mean_value):\n",
        "    return (data - numpy.mean(data)) + target_mean_value"
      ],
      "metadata": {
        "id": "NyEOTjyX8Vrb"
      },
      "execution_count": 72,
      "outputs": []
    },
    {
      "cell_type": "code",
      "source": [
        "def offset_mean(data, target_mean_value):\n",
        "    \"\"\"Return a new array containing the original data\n",
        "       with its mean offset to match the desired value.\"\"\"\n",
        "    return (data - numpy.mean(data)) + target_mean_value"
      ],
      "metadata": {
        "id": "c15b8-1X8XsS"
      },
      "execution_count": 73,
      "outputs": []
    },
    {
      "cell_type": "code",
      "source": [
        "help(offset_mean)"
      ],
      "metadata": {
        "colab": {
          "base_uri": "https://localhost:8080/"
        },
        "id": "SIsTLXRx8iql",
        "outputId": "67c44a59-f2b9-4298-d87a-c806b7a5ff08"
      },
      "execution_count": 74,
      "outputs": [
        {
          "output_type": "stream",
          "name": "stdout",
          "text": [
            "Help on function offset_mean in module __main__:\n",
            "\n",
            "offset_mean(data, target_mean_value)\n",
            "    Return a new array containing the original data\n",
            "    with its mean offset to match the desired value.\n",
            "\n"
          ]
        }
      ]
    },
    {
      "cell_type": "code",
      "source": [
        "def offset_mean(data, target_mean_value):\n",
        "    \"\"\"Return a new array containing the original data\n",
        "       with its mean offset to match the desired value.\n",
        "\n",
        "    Examples\n",
        "    --------\n",
        "    >>> offset_mean([1, 2, 3], 0)\n",
        "    array([-1.,  0.,  1.])\n",
        "    \"\"\"\n",
        "    return (data - numpy.mean(data)) + target_mean_value\n",
        "\n",
        "help(offset_mean)"
      ],
      "metadata": {
        "colab": {
          "base_uri": "https://localhost:8080/"
        },
        "id": "ET1kcSky8sik",
        "outputId": "6e7ea5e5-6760-4d27-b112-512174d23753"
      },
      "execution_count": 75,
      "outputs": [
        {
          "output_type": "stream",
          "name": "stdout",
          "text": [
            "Help on function offset_mean in module __main__:\n",
            "\n",
            "offset_mean(data, target_mean_value)\n",
            "    Return a new array containing the original data\n",
            "       with its mean offset to match the desired value.\n",
            "    \n",
            "    Examples\n",
            "    --------\n",
            "    >>> offset_mean([1, 2, 3], 0)\n",
            "    array([-1.,  0.,  1.])\n",
            "\n"
          ]
        }
      ]
    },
    {
      "cell_type": "code",
      "source": [
        "numpy.loadtxt('inflammation-01.csv', delimiter=',')"
      ],
      "metadata": {
        "colab": {
          "base_uri": "https://localhost:8080/"
        },
        "id": "oeLPR7ts8vTm",
        "outputId": "be2f546a-f314-4d55-a343-ad6f007e21fd"
      },
      "execution_count": 76,
      "outputs": [
        {
          "output_type": "execute_result",
          "data": {
            "text/plain": [
              "array([[0., 0., 1., ..., 3., 0., 0.],\n",
              "       [0., 1., 2., ..., 1., 0., 1.],\n",
              "       [0., 1., 1., ..., 2., 1., 1.],\n",
              "       ...,\n",
              "       [0., 1., 1., ..., 1., 1., 1.],\n",
              "       [0., 0., 0., ..., 0., 2., 0.],\n",
              "       [0., 0., 1., ..., 1., 1., 0.]])"
            ]
          },
          "metadata": {},
          "execution_count": 76
        }
      ]
    },
    {
      "cell_type": "code",
      "source": [
        "def offset_mean(data, target_mean_value=0.0):\n",
        "    \"\"\"Return a new array containing the original data\n",
        "       with its mean offset to match the desired value, (0 by default).\n",
        "\n",
        "    Examples\n",
        "    --------\n",
        "    >>> offset_mean([1, 2, 3])\n",
        "    array([-1.,  0.,  1.])\n",
        "    \"\"\"\n",
        "    return (data - numpy.mean(data)) + target_mean_value"
      ],
      "metadata": {
        "id": "uBQF3kTs81Rn"
      },
      "execution_count": 78,
      "outputs": []
    },
    {
      "cell_type": "code",
      "source": [
        "test_data = numpy.zeros((2, 2))\n",
        "print(offset_mean(test_data, 3))"
      ],
      "metadata": {
        "colab": {
          "base_uri": "https://localhost:8080/"
        },
        "id": "qtvcqbM287sf",
        "outputId": "f84aab5a-84d7-4b4b-ddac-da3f171b6483"
      },
      "execution_count": 79,
      "outputs": [
        {
          "output_type": "stream",
          "name": "stdout",
          "text": [
            "[[3. 3.]\n",
            " [3. 3.]]\n"
          ]
        }
      ]
    },
    {
      "cell_type": "code",
      "source": [
        "more_data = 5 + numpy.zeros((2, 2))\n",
        "print('data before mean offset:')\n",
        "print(more_data)\n",
        "print('offset data:')\n",
        "print(offset_mean(more_data))"
      ],
      "metadata": {
        "colab": {
          "base_uri": "https://localhost:8080/"
        },
        "id": "7TRJghvJ9BOK",
        "outputId": "bf9a2582-2b46-401d-a6dd-0427c7382820"
      },
      "execution_count": 80,
      "outputs": [
        {
          "output_type": "stream",
          "name": "stdout",
          "text": [
            "data before mean offset:\n",
            "[[5. 5.]\n",
            " [5. 5.]]\n",
            "offset data:\n",
            "[[0. 0.]\n",
            " [0. 0.]]\n"
          ]
        }
      ]
    },
    {
      "cell_type": "code",
      "source": [
        "def display(a=1, b=2, c=3):\n",
        "    print('a:', a, 'b:', b, 'c:', c)\n",
        "\n",
        "print('no parameters:')\n",
        "display()\n",
        "print('one parameter:')\n",
        "display(55)\n",
        "print('two parameters:')\n",
        "display(55, 66)"
      ],
      "metadata": {
        "colab": {
          "base_uri": "https://localhost:8080/"
        },
        "id": "PaSBgDfg9HfO",
        "outputId": "05f950df-262a-41e3-9f20-3470b7a93cce"
      },
      "execution_count": 81,
      "outputs": [
        {
          "output_type": "stream",
          "name": "stdout",
          "text": [
            "no parameters:\n",
            "a: 1 b: 2 c: 3\n",
            "one parameter:\n",
            "a: 55 b: 2 c: 3\n",
            "two parameters:\n",
            "a: 55 b: 66 c: 3\n"
          ]
        }
      ]
    },
    {
      "cell_type": "code",
      "source": [
        "print('only setting the value of c')\n",
        "display(c=77)"
      ],
      "metadata": {
        "colab": {
          "base_uri": "https://localhost:8080/"
        },
        "id": "JhoBMoJX9JoG",
        "outputId": "90aa6b80-b26c-4e1a-d955-4feac5198b84"
      },
      "execution_count": 82,
      "outputs": [
        {
          "output_type": "stream",
          "name": "stdout",
          "text": [
            "only setting the value of c\n",
            "a: 1 b: 2 c: 77\n"
          ]
        }
      ]
    },
    {
      "cell_type": "code",
      "source": [
        "help(numpy.loadtxt)"
      ],
      "metadata": {
        "colab": {
          "base_uri": "https://localhost:8080/"
        },
        "id": "ykGsAgn89Nxy",
        "outputId": "a34eacf6-fe97-4bde-8803-c226dc2795af"
      },
      "execution_count": 83,
      "outputs": [
        {
          "output_type": "stream",
          "name": "stdout",
          "text": [
            "Help on function loadtxt in module numpy:\n",
            "\n",
            "loadtxt(fname, dtype=<class 'float'>, comments='#', delimiter=None, converters=None, skiprows=0, usecols=None, unpack=False, ndmin=0, encoding=None, max_rows=None, *, quotechar=None, like=None)\n",
            "    Load data from a text file.\n",
            "    \n",
            "    Parameters\n",
            "    ----------\n",
            "    fname : file, str, pathlib.Path, list of str, generator\n",
            "        File, filename, list, or generator to read.  If the filename\n",
            "        extension is ``.gz`` or ``.bz2``, the file is first decompressed. Note\n",
            "        that generators must return bytes or strings. The strings\n",
            "        in a list or produced by a generator are treated as lines.\n",
            "    dtype : data-type, optional\n",
            "        Data-type of the resulting array; default: float.  If this is a\n",
            "        structured data-type, the resulting array will be 1-dimensional, and\n",
            "        each row will be interpreted as an element of the array.  In this\n",
            "        case, the number of columns used must match the number of fields in\n",
            "        the data-type.\n",
            "    comments : str or sequence of str or None, optional\n",
            "        The characters or list of characters used to indicate the start of a\n",
            "        comment. None implies no comments. For backwards compatibility, byte\n",
            "        strings will be decoded as 'latin1'. The default is '#'.\n",
            "    delimiter : str, optional\n",
            "        The character used to separate the values. For backwards compatibility,\n",
            "        byte strings will be decoded as 'latin1'. The default is whitespace.\n",
            "    \n",
            "        .. versionchanged:: 1.23.0\n",
            "           Only single character delimiters are supported. Newline characters\n",
            "           cannot be used as the delimiter.\n",
            "    \n",
            "    converters : dict or callable, optional\n",
            "        Converter functions to customize value parsing. If `converters` is\n",
            "        callable, the function is applied to all columns, else it must be a\n",
            "        dict that maps column number to a parser function.\n",
            "        See examples for further details.\n",
            "        Default: None.\n",
            "    \n",
            "        .. versionchanged:: 1.23.0\n",
            "           The ability to pass a single callable to be applied to all columns\n",
            "           was added.\n",
            "    \n",
            "    skiprows : int, optional\n",
            "        Skip the first `skiprows` lines, including comments; default: 0.\n",
            "    usecols : int or sequence, optional\n",
            "        Which columns to read, with 0 being the first. For example,\n",
            "        ``usecols = (1,4,5)`` will extract the 2nd, 5th and 6th columns.\n",
            "        The default, None, results in all columns being read.\n",
            "    \n",
            "        .. versionchanged:: 1.11.0\n",
            "            When a single column has to be read it is possible to use\n",
            "            an integer instead of a tuple. E.g ``usecols = 3`` reads the\n",
            "            fourth column the same way as ``usecols = (3,)`` would.\n",
            "    unpack : bool, optional\n",
            "        If True, the returned array is transposed, so that arguments may be\n",
            "        unpacked using ``x, y, z = loadtxt(...)``.  When used with a\n",
            "        structured data-type, arrays are returned for each field.\n",
            "        Default is False.\n",
            "    ndmin : int, optional\n",
            "        The returned array will have at least `ndmin` dimensions.\n",
            "        Otherwise mono-dimensional axes will be squeezed.\n",
            "        Legal values: 0 (default), 1 or 2.\n",
            "    \n",
            "        .. versionadded:: 1.6.0\n",
            "    encoding : str, optional\n",
            "        Encoding used to decode the inputfile. Does not apply to input streams.\n",
            "        The special value 'bytes' enables backward compatibility workarounds\n",
            "        that ensures you receive byte arrays as results if possible and passes\n",
            "        'latin1' encoded strings to converters. Override this value to receive\n",
            "        unicode arrays and pass strings as input to converters.  If set to None\n",
            "        the system default is used. The default value is 'bytes'.\n",
            "    \n",
            "        .. versionadded:: 1.14.0\n",
            "        .. versionchanged:: 2.0\n",
            "            Before NumPy 2, the default was ``'bytes'`` for Python 2\n",
            "            compatibility. The default is now ``None``.\n",
            "    \n",
            "    max_rows : int, optional\n",
            "        Read `max_rows` rows of content after `skiprows` lines. The default is\n",
            "        to read all the rows. Note that empty rows containing no data such as\n",
            "        empty lines and comment lines are not counted towards `max_rows`,\n",
            "        while such lines are counted in `skiprows`.\n",
            "    \n",
            "        .. versionadded:: 1.16.0\n",
            "    \n",
            "        .. versionchanged:: 1.23.0\n",
            "            Lines containing no data, including comment lines (e.g., lines\n",
            "            starting with '#' or as specified via `comments`) are not counted\n",
            "            towards `max_rows`.\n",
            "    quotechar : unicode character or None, optional\n",
            "        The character used to denote the start and end of a quoted item.\n",
            "        Occurrences of the delimiter or comment characters are ignored within\n",
            "        a quoted item. The default value is ``quotechar=None``, which means\n",
            "        quoting support is disabled.\n",
            "    \n",
            "        If two consecutive instances of `quotechar` are found within a quoted\n",
            "        field, the first is treated as an escape character. See examples.\n",
            "    \n",
            "        .. versionadded:: 1.23.0\n",
            "    like : array_like, optional\n",
            "        Reference object to allow the creation of arrays which are not\n",
            "        NumPy arrays. If an array-like passed in as ``like`` supports\n",
            "        the ``__array_function__`` protocol, the result will be defined\n",
            "        by it. In this case, it ensures the creation of an array object\n",
            "        compatible with that passed in via this argument.\n",
            "    \n",
            "        .. versionadded:: 1.20.0\n",
            "    \n",
            "    Returns\n",
            "    -------\n",
            "    out : ndarray\n",
            "        Data read from the text file.\n",
            "    \n",
            "    See Also\n",
            "    --------\n",
            "    load, fromstring, fromregex\n",
            "    genfromtxt : Load data with missing values handled as specified.\n",
            "    scipy.io.loadmat : reads MATLAB data files\n",
            "    \n",
            "    Notes\n",
            "    -----\n",
            "    This function aims to be a fast reader for simply formatted files.  The\n",
            "    `genfromtxt` function provides more sophisticated handling of, e.g.,\n",
            "    lines with missing values.\n",
            "    \n",
            "    Each row in the input text file must have the same number of values to be\n",
            "    able to read all values. If all rows do not have same number of values, a\n",
            "    subset of up to n columns (where n is the least number of values present\n",
            "    in all rows) can be read by specifying the columns via `usecols`.\n",
            "    \n",
            "    .. versionadded:: 1.10.0\n",
            "    \n",
            "    The strings produced by the Python float.hex method can be used as\n",
            "    input for floats.\n",
            "    \n",
            "    Examples\n",
            "    --------\n",
            "    >>> from io import StringIO   # StringIO behaves like a file object\n",
            "    >>> c = StringIO(\"0 1\\n2 3\")\n",
            "    >>> np.loadtxt(c)\n",
            "    array([[0., 1.],\n",
            "           [2., 3.]])\n",
            "    \n",
            "    >>> d = StringIO(\"M 21 72\\nF 35 58\")\n",
            "    >>> np.loadtxt(d, dtype={'names': ('gender', 'age', 'weight'),\n",
            "    ...                      'formats': ('S1', 'i4', 'f4')})\n",
            "    array([(b'M', 21, 72.), (b'F', 35, 58.)],\n",
            "          dtype=[('gender', 'S1'), ('age', '<i4'), ('weight', '<f4')])\n",
            "    \n",
            "    >>> c = StringIO(\"1,0,2\\n3,0,4\")\n",
            "    >>> x, y = np.loadtxt(c, delimiter=',', usecols=(0, 2), unpack=True)\n",
            "    >>> x\n",
            "    array([1., 3.])\n",
            "    >>> y\n",
            "    array([2., 4.])\n",
            "    \n",
            "    The `converters` argument is used to specify functions to preprocess the\n",
            "    text prior to parsing. `converters` can be a dictionary that maps\n",
            "    preprocessing functions to each column:\n",
            "    \n",
            "    >>> s = StringIO(\"1.618, 2.296\\n3.141, 4.669\\n\")\n",
            "    >>> conv = {\n",
            "    ...     0: lambda x: np.floor(float(x)),  # conversion fn for column 0\n",
            "    ...     1: lambda x: np.ceil(float(x)),  # conversion fn for column 1\n",
            "    ... }\n",
            "    >>> np.loadtxt(s, delimiter=\",\", converters=conv)\n",
            "    array([[1., 3.],\n",
            "           [3., 5.]])\n",
            "    \n",
            "    `converters` can be a callable instead of a dictionary, in which case it\n",
            "    is applied to all columns:\n",
            "    \n",
            "    >>> s = StringIO(\"0xDE 0xAD\\n0xC0 0xDE\")\n",
            "    >>> import functools\n",
            "    >>> conv = functools.partial(int, base=16)\n",
            "    >>> np.loadtxt(s, converters=conv)\n",
            "    array([[222., 173.],\n",
            "           [192., 222.]])\n",
            "    \n",
            "    This example shows how `converters` can be used to convert a field\n",
            "    with a trailing minus sign into a negative number.\n",
            "    \n",
            "    >>> s = StringIO(\"10.01 31.25-\\n19.22 64.31\\n17.57- 63.94\")\n",
            "    >>> def conv(fld):\n",
            "    ...     return -float(fld[:-1]) if fld.endswith(\"-\") else float(fld)\n",
            "    ...\n",
            "    >>> np.loadtxt(s, converters=conv)\n",
            "    array([[ 10.01, -31.25],\n",
            "           [ 19.22,  64.31],\n",
            "           [-17.57,  63.94]])\n",
            "    \n",
            "    Using a callable as the converter can be particularly useful for handling\n",
            "    values with different formatting, e.g. floats with underscores:\n",
            "    \n",
            "    >>> s = StringIO(\"1 2.7 100_000\")\n",
            "    >>> np.loadtxt(s, converters=float)\n",
            "    array([1.e+00, 2.7e+00, 1.e+05])\n",
            "    \n",
            "    This idea can be extended to automatically handle values specified in\n",
            "    many different formats, such as hex values:\n",
            "    \n",
            "    >>> def conv(val):\n",
            "    ...     try:\n",
            "    ...         return float(val)\n",
            "    ...     except ValueError:\n",
            "    ...         return float.fromhex(val)\n",
            "    >>> s = StringIO(\"1, 2.5, 3_000, 0b4, 0x1.4000000000000p+2\")\n",
            "    >>> np.loadtxt(s, delimiter=\",\", converters=conv)\n",
            "    array([1.0e+00, 2.5e+00, 3.0e+03, 1.8e+02, 5.0e+00])\n",
            "    \n",
            "    Or a format where the ``-`` sign comes after the number:\n",
            "    \n",
            "    >>> s = StringIO(\"10.01 31.25-\\n19.22 64.31\\n17.57- 63.94\")\n",
            "    >>> conv = lambda x: -float(x[:-1]) if x.endswith(\"-\") else float(x)\n",
            "    >>> np.loadtxt(s, converters=conv)\n",
            "    array([[ 10.01, -31.25],\n",
            "           [ 19.22,  64.31],\n",
            "           [-17.57,  63.94]])\n",
            "    \n",
            "    Support for quoted fields is enabled with the `quotechar` parameter.\n",
            "    Comment and delimiter characters are ignored when they appear within a\n",
            "    quoted item delineated by `quotechar`:\n",
            "    \n",
            "    >>> s = StringIO('\"alpha, #42\", 10.0\\n\"beta, #64\", 2.0\\n')\n",
            "    >>> dtype = np.dtype([(\"label\", \"U12\"), (\"value\", float)])\n",
            "    >>> np.loadtxt(s, dtype=dtype, delimiter=\",\", quotechar='\"')\n",
            "    array([('alpha, #42', 10.), ('beta, #64',  2.)],\n",
            "          dtype=[('label', '<U12'), ('value', '<f8')])\n",
            "    \n",
            "    Quoted fields can be separated by multiple whitespace characters:\n",
            "    \n",
            "    >>> s = StringIO('\"alpha, #42\"       10.0\\n\"beta, #64\" 2.0\\n')\n",
            "    >>> dtype = np.dtype([(\"label\", \"U12\"), (\"value\", float)])\n",
            "    >>> np.loadtxt(s, dtype=dtype, delimiter=None, quotechar='\"')\n",
            "    array([('alpha, #42', 10.), ('beta, #64',  2.)],\n",
            "          dtype=[('label', '<U12'), ('value', '<f8')])\n",
            "    \n",
            "    Two consecutive quote characters within a quoted field are treated as a\n",
            "    single escaped character:\n",
            "    \n",
            "    >>> s = StringIO('\"Hello, my name is \"\"Monty\"\"!\"')\n",
            "    >>> np.loadtxt(s, dtype=\"U\", delimiter=\",\", quotechar='\"')\n",
            "    array('Hello, my name is \"Monty\"!', dtype='<U26')\n",
            "    \n",
            "    Read subset of columns when all rows do not contain equal number of values:\n",
            "    \n",
            "    >>> d = StringIO(\"1 2\\n2 4\\n3 9 12\\n4 16 20\")\n",
            "    >>> np.loadtxt(d, usecols=(0, 1))\n",
            "    array([[ 1.,  2.],\n",
            "           [ 2.,  4.],\n",
            "           [ 3.,  9.],\n",
            "           [ 4., 16.]])\n",
            "\n"
          ]
        }
      ]
    },
    {
      "cell_type": "code",
      "source": [
        "numpy.loadtxt('inflammation-01.csv', ',')"
      ],
      "metadata": {
        "colab": {
          "base_uri": "https://localhost:8080/",
          "height": 587
        },
        "id": "iWH1b0D09PQz",
        "outputId": "e38d2754-da99-47cf-8e70-11c89c8d7b86"
      },
      "execution_count": 84,
      "outputs": [
        {
          "output_type": "error",
          "ename": "SyntaxError",
          "evalue": "invalid syntax (<unknown>, line 1)",
          "traceback": [
            "Traceback \u001b[0;36m(most recent call last)\u001b[0m:\n",
            "  File \u001b[1;32m\"/usr/local/lib/python3.11/dist-packages/IPython/core/interactiveshell.py\"\u001b[0m, line \u001b[1;32m3553\u001b[0m, in \u001b[1;35mrun_code\u001b[0m\n    exec(code_obj, self.user_global_ns, self.user_ns)\n",
            "  File \u001b[1;32m\"<ipython-input-84-d0d3ef43afeb>\"\u001b[0m, line \u001b[1;32m1\u001b[0m, in \u001b[1;35m<cell line: 0>\u001b[0m\n    numpy.loadtxt('inflammation-01.csv', ',')\n",
            "  File \u001b[1;32m\"/usr/local/lib/python3.11/dist-packages/numpy/lib/_npyio_impl.py\"\u001b[0m, line \u001b[1;32m1381\u001b[0m, in \u001b[1;35mloadtxt\u001b[0m\n    arr = _read(fname, dtype=dtype, comment=comment, delimiter=delimiter,\n",
            "  File \u001b[1;32m\"/usr/local/lib/python3.11/dist-packages/numpy/lib/_npyio_impl.py\"\u001b[0m, line \u001b[1;32m922\u001b[0m, in \u001b[1;35m_read\u001b[0m\n    dtype = np.dtype(dtype)\n",
            "  File \u001b[1;32m\"/usr/local/lib/python3.11/dist-packages/numpy/_core/_internal.py\"\u001b[0m, line \u001b[1;32m203\u001b[0m, in \u001b[1;35m_commastring\u001b[0m\n    newitem = (dtype, ast.literal_eval(repeats))\n",
            "  File \u001b[1;32m\"/usr/lib/python3.11/ast.py\"\u001b[0m, line \u001b[1;32m64\u001b[0m, in \u001b[1;35mliteral_eval\u001b[0m\n    node_or_string = parse(node_or_string.lstrip(\" \\t\"), mode='eval')\n",
            "\u001b[0;36m  File \u001b[0;32m\"/usr/lib/python3.11/ast.py\"\u001b[0;36m, line \u001b[0;32m50\u001b[0;36m, in \u001b[0;35mparse\u001b[0;36m\u001b[0m\n\u001b[0;31m    return compile(source, filename, mode, flags,\u001b[0m\n",
            "\u001b[0;36m  File \u001b[0;32m\"<unknown>\"\u001b[0;36m, line \u001b[0;32m1\u001b[0m\n\u001b[0;31m    ,\u001b[0m\n\u001b[0m    ^\u001b[0m\n\u001b[0;31mSyntaxError\u001b[0m\u001b[0;31m:\u001b[0m invalid syntax\n"
          ]
        }
      ]
    },
    {
      "cell_type": "code",
      "source": [
        "%pwd"
      ],
      "metadata": {
        "colab": {
          "base_uri": "https://localhost:8080/",
          "height": 35
        },
        "id": "iQVlgEu-9fen",
        "outputId": "38b7d4fc-0fb3-4fb5-fc17-83d7803e81b8"
      },
      "execution_count": 85,
      "outputs": [
        {
          "output_type": "execute_result",
          "data": {
            "text/plain": [
              "'/content/day14/data'"
            ],
            "application/vnd.google.colaboratory.intrinsic+json": {
              "type": "string"
            }
          },
          "metadata": {},
          "execution_count": 85
        }
      ]
    },
    {
      "cell_type": "code",
      "source": [
        "def s(p):\n",
        "    a = 0\n",
        "    for v in p:\n",
        "        a += v\n",
        "    m = a / len(p)\n",
        "    d = 0\n",
        "    for v in p:\n",
        "        d += (v - m) * (v - m)\n",
        "    return numpy.sqrt(d / (len(p) - 1))\n",
        "\n",
        "def std_dev(sample):\n",
        "    sample_sum = 0\n",
        "    for value in sample:\n",
        "        sample_sum += value\n",
        "\n",
        "    sample_mean = sample_sum / len(sample)\n",
        "\n",
        "    sum_squared_devs = 0\n",
        "    for value in sample:\n",
        "        sum_squared_devs += (value - sample_mean) * (value - sample_mean)\n",
        "\n",
        "    return numpy.sqrt(sum_squared_devs / (len(sample) - 1))"
      ],
      "metadata": {
        "id": "KJBRZOaK9tPT"
      },
      "execution_count": 86,
      "outputs": []
    },
    {
      "cell_type": "code",
      "source": [],
      "metadata": {
        "id": "bsjirwYi9yx9"
      },
      "execution_count": null,
      "outputs": []
    }
  ]
}